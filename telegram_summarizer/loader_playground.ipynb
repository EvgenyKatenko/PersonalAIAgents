{
 "cells": [
  {
   "cell_type": "code",
   "execution_count": 2,
   "id": "d35d66d5",
   "metadata": {},
   "outputs": [],
   "source": [
    "import os \n",
    "\n",
    "from dotenv import load_dotenv"
   ]
  },
  {
   "cell_type": "code",
   "execution_count": 3,
   "id": "5c3b41d5",
   "metadata": {},
   "outputs": [
    {
     "name": "stdout",
     "output_type": "stream",
     "text": [
      "261\n",
      "6da\n"
     ]
    }
   ],
   "source": [
    "load_dotenv(override=True)\n",
    "\n",
    "print(os.getenv('TELEGRAM_API_ID')[:3])\n",
    "print(os.getenv('TELEGRAM_API_HASH')[:3])"
   ]
  },
  {
   "cell_type": "code",
   "execution_count": 4,
   "id": "6cd6dee2",
   "metadata": {},
   "outputs": [],
   "source": [
    "from telethon import TelegramClient\n",
    "from telethon.tl.types import User, Chat, Channel\n",
    "import asyncio\n",
    "\n"
   ]
  },
  {
   "cell_type": "code",
   "execution_count": 5,
   "id": "5bfc6105",
   "metadata": {},
   "outputs": [],
   "source": [
    "# replace with your own values\n",
    "api_id = os.getenv('TELEGRAM_API_ID')\n",
    "api_hash = os.getenv('TELEGRAM_API_HASH')\n",
    "session_name = 'test_session'  # local file to store your session\n",
    "\n",
    "async def main():\n",
    "    client = TelegramClient(session_name, api_id, api_hash)\n",
    "    await client.start()  # will prompt for phone + code on first run\n",
    "\n",
    "    # 1) List all dialogs (chats/channels/groups/PMs)\n",
    "    async for dialog in client.iter_dialogs():\n",
    "        print(f\"{dialog.id}: {dialog.name} ({dialog.entity.username or 'no username'})\")\n",
    "\n",
    "    # 2) For each dialog, fetch messages\n",
    "    # Here’s how to download the latest 100 messages from each\n",
    "    \n",
    "    # async for dialog in client.iter_dialogs():\n",
    "    #     messages = await client.get_messages(dialog.entity, limit=100)\n",
    "    #     for msg in messages:\n",
    "    #         # do whatever you like—save to file, database, etc.\n",
    "    #         print(dialog.name, msg.id, msg.date, msg.message)\n",
    "\n",
    "    await client.disconnect()\n",
    "\n",
    "\n"
   ]
  },
  {
   "cell_type": "code",
   "execution_count": 6,
   "id": "6f182f0d",
   "metadata": {},
   "outputs": [
    {
     "name": "stderr",
     "output_type": "stream",
     "text": [
      "Invalid password. Please try again\n"
     ]
    },
    {
     "name": "stdout",
     "output_type": "stream",
     "text": [
      "Signed in successfully as Evgeny Katenko; remember to not break the ToS or you will risk an account ban!\n",
      "85446176: Evgeny Katenko (no username)\n",
      "777000: Telegram (no username)\n",
      "-1001913733859: Нельзя смеяться (nesocial)\n",
      "-1001003698528: IZ.RU (izvestia)\n",
      "-1001136626166: Банкста (banksta)\n",
      "-1001355592360: Московский кэш (moscash)\n",
      "-1001099860397: РБК. Новости. Главное (rbc_news)\n",
      "-1001315735637: СОЛОВЬЁВ (SolovievLive)\n",
      "-1001394050290: Раньше всех. Ну почти. (bbbreaking)\n",
      "-1001392903897: Оперштаб Игорь Рыбаков (rybakovigor)\n",
      "-1001203560567: MarketTwits (markettwits)\n",
      "-1001227956015: СВЕЖЕСТИ (svezhesti)\n",
      "-1001176247089: Dirty Harry | Игорь Гомольский (harry_homolsky)\n",
      "-1001562620407: Мятежник Джек (rebel_jack_review)\n",
      "-1001197296889: ЗЛОЙ ФИНАНСИСТ 😡 (finpizdec)\n",
      "-1001653961347: Москва Сегодня (today_moscow)\n",
      "-1001228570965: Русский Демиург (rus_demiurge)\n",
      "-1001667241613: ОАЭ с питомцем (собака, кошка и проч) (uae_pets)\n",
      "-1001046511458: СТАС БОМБИТ (ikakprosto)\n",
      "-1001202159807: Банки, деньги, два офшора (no username)\n",
      "-1001117628569: Mash (no username)\n",
      "-1001138794914: Cbonds.ru (cbonds)\n",
      "-1001792249905: Travel media (no username)\n",
      "-1001197210433: Сигналы РЦБ (cbrstocks)\n",
      "-1001498653424: Сам ты инвестор! (selfinvestor)\n",
      "-1001311740140: Макс атакует! (shevchenkomax_1)\n",
      "-1001154838044: Сигналы РЦБ Крипто (usa100cks)\n",
      "-1001324711820: Антонов такой Антонов (auantonov)\n",
      "-1001277327948: CryptoWorldNews (CryptoWorldNews)\n",
      "-1001136745321: NES CDLC (nes_cdlc)\n",
      "-1001864893114: Телега ONLINE (telegaonlineofficial)\n",
      "-1001082968817: Минобороны России (mod_russia)\n",
      "-1001063908560: СМАРТЛАБ (smartlabnews)\n",
      "-1001463239258: Российская экономическая школа (nes_official)\n",
      "-1001595839251: Военная хроника (Warhronika)\n",
      "-1001633923169: Красное Радио (krasnoeradio)\n",
      "-1001104154694: Novostroyman. Москва. Недвижимость (novostroyman)\n",
      "-1001138179385: ФИНАНСОВЫЕ ДУМКИ (MarketDumki)\n",
      "-1001761455651: Мужские Хитрости (no username)\n",
      "-1001135021433: WarGonzo (wargonzo)\n",
      "-1001140631682: Монокль (expert_ru)\n",
      "-1001267641184: Во///дь (indeec_1937)\n",
      "-1001395942336: IF News (if_market_news)\n",
      "-1001117685649: Politeconomics (politeconomics)\n",
      "936062125: Мама (Marka27)\n",
      "-1001537457466: Эксперт ️ (expert_mag)\n",
      "-1001052505009: Tynu40k Goblina (oper.ru) (oper_goblin)\n",
      "-1001217080686: Захар Прилепин (zakharprilepin)\n",
      "-1001116215446: Вован и Лексус (Russiacalling)\n",
      "-1001391017653: ИЗОЛЕНТА live (izolentalive)\n",
      "-1001502835650: Движ про недвиж (dvizhpronedvizh)\n",
      "-1001003313758: Новости Москвы (moscowmap)\n",
      "-1001604540553: HSE Apartment Sublet & Exchange (no username)\n",
      "-1001117962103: Игорь Оболенский (igorobolensky)\n",
      "-1001680634724: Банк России (centralbank_russia)\n",
      "-1001229108288: Watch_Depo (watch_depo)\n",
      "-1001386264888: Мы из СССР | История (no username)\n",
      "-1001447703720: Семен Уралов (su2050)\n",
      "-1001736895964: Война с фейками (warfakes)\n",
      "-1001679958176: Книжный день (knijnij_den)\n",
      "-1001573517308: ЭМПАТИЯ МАНУЧИ (empatia_manuchi)\n",
      "-1001143118800: ASATUR.PRICE (asaturprice)\n",
      "-1002058513820: Друзья RUB <> AED (no username)\n",
      "-1001533089215: Арт-видео.инфо (artvideoinfo)\n",
      "-1001294344361: Карина Палецких (no username)\n",
      "-1001212259149: Вечерний Хабаровск (vehernij_habarovsk)\n",
      "-1001486790946: Spydell_finance (spydell_finance)\n",
      "-1001203363626: Лука Ебков (luka_ebkov)\n",
      "-1001966302995: Евгений Спицын (SpicynEY)\n",
      "-1001100942646: Александр Ходаковский (aleksandr_skif)\n",
      "-1001107922757: MMI (russianmacro)\n",
      "-1001096425384: Big NES Family (no username)\n",
      "-1001571901090: ЛИТ (litkhv)\n"
     ]
    },
    {
     "ename": "AttributeError",
     "evalue": "'Chat' object has no attribute 'username'",
     "output_type": "error",
     "traceback": [
      "\u001b[31m---------------------------------------------------------------------------\u001b[39m",
      "\u001b[31mAttributeError\u001b[39m                            Traceback (most recent call last)",
      "\u001b[36mCell\u001b[39m\u001b[36m \u001b[39m\u001b[32mIn[6]\u001b[39m\u001b[32m, line 1\u001b[39m\n\u001b[32m----> \u001b[39m\u001b[32m1\u001b[39m \u001b[38;5;28;01mawait\u001b[39;00m main()\n",
      "\u001b[36mCell\u001b[39m\u001b[36m \u001b[39m\u001b[32mIn[5]\u001b[39m\u001b[32m, line 12\u001b[39m, in \u001b[36mmain\u001b[39m\u001b[34m()\u001b[39m\n\u001b[32m     10\u001b[39m \u001b[38;5;66;03m# 1) List all dialogs (chats/channels/groups/PMs)\u001b[39;00m\n\u001b[32m     11\u001b[39m \u001b[38;5;28;01masync\u001b[39;00m \u001b[38;5;28;01mfor\u001b[39;00m dialog \u001b[38;5;129;01min\u001b[39;00m client.iter_dialogs():\n\u001b[32m---> \u001b[39m\u001b[32m12\u001b[39m     \u001b[38;5;28mprint\u001b[39m(\u001b[33mf\u001b[39m\u001b[33m\"\u001b[39m\u001b[38;5;132;01m{\u001b[39;00mdialog.id\u001b[38;5;132;01m}\u001b[39;00m\u001b[33m: \u001b[39m\u001b[38;5;132;01m{\u001b[39;00mdialog.name\u001b[38;5;132;01m}\u001b[39;00m\u001b[33m (\u001b[39m\u001b[38;5;132;01m{\u001b[39;00m\u001b[43mdialog\u001b[49m\u001b[43m.\u001b[49m\u001b[43mentity\u001b[49m\u001b[43m.\u001b[49m\u001b[43musername\u001b[49m\u001b[38;5;250m \u001b[39m\u001b[38;5;129;01mor\u001b[39;00m\u001b[38;5;250m \u001b[39m\u001b[33m'\u001b[39m\u001b[33mno username\u001b[39m\u001b[33m'\u001b[39m\u001b[38;5;132;01m}\u001b[39;00m\u001b[33m)\u001b[39m\u001b[33m\"\u001b[39m)\n\u001b[32m     14\u001b[39m \u001b[38;5;66;03m# 2) For each dialog, fetch messages\u001b[39;00m\n\u001b[32m     15\u001b[39m \u001b[38;5;66;03m# Here’s how to download the latest 100 messages from each\u001b[39;00m\n\u001b[32m     16\u001b[39m \n\u001b[32m   (...)\u001b[39m\u001b[32m     20\u001b[39m \u001b[38;5;66;03m#         # do whatever you like—save to file, database, etc.\u001b[39;00m\n\u001b[32m     21\u001b[39m \u001b[38;5;66;03m#         print(dialog.name, msg.id, msg.date, msg.message)\u001b[39;00m\n\u001b[32m     23\u001b[39m \u001b[38;5;28;01mawait\u001b[39;00m client.disconnect()\n",
      "\u001b[31mAttributeError\u001b[39m: 'Chat' object has no attribute 'username'"
     ]
    }
   ],
   "source": [
    "await main()"
   ]
  },
  {
   "cell_type": "code",
   "execution_count": null,
   "id": "e469766c",
   "metadata": {},
   "outputs": [],
   "source": []
  }
 ],
 "metadata": {
  "kernelspec": {
   "display_name": ".venv",
   "language": "python",
   "name": "python3"
  },
  "language_info": {
   "codemirror_mode": {
    "name": "ipython",
    "version": 3
   },
   "file_extension": ".py",
   "mimetype": "text/x-python",
   "name": "python",
   "nbconvert_exporter": "python",
   "pygments_lexer": "ipython3",
   "version": "3.12.11"
  }
 },
 "nbformat": 4,
 "nbformat_minor": 5
}

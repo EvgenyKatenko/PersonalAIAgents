{
 "cells": [
  {
   "cell_type": "code",
   "execution_count": 1,
   "id": "7a8a30540d823229",
   "metadata": {
    "ExecuteTime": {
     "end_time": "2025-07-29T13:59:34.679446Z",
     "start_time": "2025-07-29T13:59:34.677101Z"
    }
   },
   "outputs": [],
   "source": [
    "from turtledemo.sorting_animate import instructions1\n",
    "\n",
    "from IPython.display import Markdown, display\n",
    "from dotenv import load_dotenv\n",
    "import os"
   ]
  },
  {
   "cell_type": "code",
   "execution_count": 2,
   "id": "212665a0548fd219",
   "metadata": {},
   "outputs": [],
   "source": [
    "load_dotenv()\n",
    "api_key = os.getenv('HYPERBOLIC_API_KEY')\n",
    "BASE_URL = \"https://api.hyperbolic.xyz/v1\""
   ]
  },
  {
   "cell_type": "markdown",
   "id": "98b1800779e9168f",
   "metadata": {},
   "source": [
    "# Just post to url"
   ]
  },
  {
   "cell_type": "code",
   "execution_count": 6,
   "id": "initial_id",
   "metadata": {
    "ExecuteTime": {
     "end_time": "2025-07-29T14:45:47.788759Z",
     "start_time": "2025-07-29T14:45:45.798377Z"
    }
   },
   "outputs": [
    {
     "name": "stdout",
     "output_type": "stream",
     "text": [
      "Here's one:\n",
      "\n",
      "What do you call a fake noodle?\n",
      "\n",
      "An impasta!\n",
      "\n",
      "Hope that made you laugh! Do you want to hear another one?\n"
     ]
    }
   ],
   "source": [
    "import requests\n",
    "\n",
    "url = f\"{BASE_URL}/chat/completions\"\n",
    "headers = {\n",
    "    \"Content-Type\": \"application/json\",\n",
    "    \"Authorization\": f\"Bearer {api_key}\"\n",
    "}\n",
    "data = {\n",
    "    \"messages\": [{\n",
    "      \"role\": \"user\",\n",
    "      \"content\": \"Tell me a joke\"\n",
    "    }],\n",
    "    \"model\": \"meta-llama/Llama-3.3-70B-Instruct\",\n",
    "    \"max_tokens\": 100,\n",
    "    \"temperature\": 0.1,\n",
    "    \"top_p\": 0.9\n",
    "}\n",
    "\n",
    "response = requests.post(url, headers=headers, json=data)\n",
    "print(response.json()['choices'][0]['message']['content'])"
   ]
  },
  {
   "cell_type": "markdown",
   "id": "f86b7f173ba87777",
   "metadata": {
    "ExecuteTime": {
     "end_time": "2025-07-29T13:47:26.963032Z",
     "start_time": "2025-07-29T13:47:26.961422Z"
    }
   },
   "source": [
    "# Using wrapper"
   ]
  },
  {
   "cell_type": "code",
   "execution_count": null,
   "id": "bfa631ca60a087a2",
   "metadata": {},
   "outputs": [],
   "source": [
    "load_dotenv(override=True)"
   ]
  },
  {
   "cell_type": "code",
   "execution_count": 9,
   "id": "57c2506b93cfdb64",
   "metadata": {
    "ExecuteTime": {
     "end_time": "2025-07-29T14:02:22.053802Z",
     "start_time": "2025-07-29T14:02:20.037059Z"
    }
   },
   "outputs": [],
   "source": [
    "from openai import OpenAI\n",
    "\n",
    "model_name = \"meta-llama/Meta-Llama-3.1-70B-Instruct\"\n",
    "\n",
    "model = OpenAI(base_url=BASE_URL,\n",
    "                api_key=api_key)\n",
    "\n",
    "response = model.chat.completions.create(model=model_name,\n",
    "    messages=[{\"role\" : \"system\", \"content\": \"You are dark humor joker and reply only with a joke itself\"},\n",
    "        {\"role\": \"user\", \"content\": \"Tell me a joke\"}],\n",
    "    temperature=0.6,\n",
    "    max_tokens=100)\n"
   ]
  },
  {
   "cell_type": "code",
   "execution_count": 10,
   "id": "f56ee10a9bfec0c4",
   "metadata": {
    "ExecuteTime": {
     "end_time": "2025-07-29T14:02:22.675316Z",
     "start_time": "2025-07-29T14:02:22.671570Z"
    }
   },
   "outputs": [
    {
     "data": {
      "text/markdown": [
       "Why was the morgue employee always in a good mood? Because he was always dying to get to work!"
      ],
      "text/plain": [
       "<IPython.core.display.Markdown object>"
      ]
     },
     "metadata": {},
     "output_type": "display_data"
    }
   ],
   "source": [
    "answer = response.choices[0].message.content\n",
    "\n",
    "display(Markdown(answer))"
   ]
  },
  {
   "cell_type": "markdown",
   "id": "d908f4d1d1705481",
   "metadata": {},
   "source": [
    "# Open AI Agent SDK"
   ]
  },
  {
   "cell_type": "code",
   "execution_count": 44,
   "id": "1f49ebe6cbf724b1",
   "metadata": {
    "ExecuteTime": {
     "end_time": "2025-07-29T15:03:15.048784Z",
     "start_time": "2025-07-29T15:03:12.055298Z"
    }
   },
   "outputs": [
    {
     "name": "stdout",
     "output_type": "stream",
     "text": [
      "Why was the morgue employee always in a good mood? Because he was always dying to get to work!\n"
     ]
    }
   ],
   "source": [
    "from openai import AsyncOpenAI\n",
    "from agents import Agent, Runner, trace, function_tool, OpenAIChatCompletionsModel, input_guardrail, GuardrailFunctionOutput, ModelSettings\n",
    "\n",
    "model_name = \"meta-llama/Meta-Llama-3.1-70B-Instruct\"\n",
    "\n",
    "hyperbolic_client = AsyncOpenAI(base_url=BASE_URL,\n",
    "                                api_key=api_key\n",
    "                                )\n",
    "hyperbolic_model = OpenAIChatCompletionsModel(model= model_name,\n",
    "                                              openai_client=hyperbolic_client\n",
    "                                              )\n",
    "\n",
    "model_settings = ModelSettings(temperature=0.1, max_tokens=100, top_p=0.2)\n",
    "\n",
    "hyperbolic_agent = Agent(\n",
    "    name = \"Hyperbolic agent\",\n",
    "    instructions = \"You are dark humor joker and reply only with a joke itself\",\n",
    "    model = hyperbolic_model,\n",
    "    model_settings = model_settings\n",
    ")\n",
    "\n",
    "with trace(\"Hyperbolic agent\"):\n",
    "    result = await Runner.run(hyperbolic_agent, \"Tell me a joke.\")\n",
    "\n",
    "    print(result.final_output)"
   ]
  },
  {
   "cell_type": "code",
   "execution_count": null,
   "id": "d815875e8daa4e5c",
   "metadata": {},
   "outputs": [
    {
     "ename": "AttributeError",
     "evalue": "'Agent' object has no attribute 'run'",
     "output_type": "error",
     "traceback": [
      "\u001b[31m---------------------------------------------------------------------------\u001b[39m",
      "\u001b[31mAttributeError\u001b[39m                            Traceback (most recent call last)",
      "\u001b[36mCell\u001b[39m\u001b[36m \u001b[39m\u001b[32mIn[13]\u001b[39m\u001b[32m, line 1\u001b[39m\n\u001b[32m----> \u001b[39m\u001b[32m1\u001b[39m \u001b[43mhyperbolic_agent\u001b[49m\u001b[43m.\u001b[49m\u001b[43mrun\u001b[49m(\u001b[33m\"\u001b[39m\u001b[33mTell me a joke.\u001b[39m\u001b[33m\"\u001b[39m)\n",
      "\u001b[31mAttributeError\u001b[39m: 'Agent' object has no attribute 'run'"
     ]
    }
   ],
   "source": []
  },
  {
   "cell_type": "code",
   "execution_count": null,
   "id": "eedd35ef9c8bf3d0",
   "metadata": {},
   "outputs": [],
   "source": []
  }
 ],
 "metadata": {
  "kernelspec": {
   "display_name": ".venv",
   "language": "python",
   "name": "python3"
  },
  "language_info": {
   "codemirror_mode": {
    "name": "ipython",
    "version": 3
   },
   "file_extension": ".py",
   "mimetype": "text/x-python",
   "name": "python",
   "nbconvert_exporter": "python",
   "pygments_lexer": "ipython3",
   "version": "3.12.11"
  }
 },
 "nbformat": 4,
 "nbformat_minor": 5
}

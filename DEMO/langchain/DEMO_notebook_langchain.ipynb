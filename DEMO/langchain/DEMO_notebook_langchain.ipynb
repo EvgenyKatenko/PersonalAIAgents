{
 "cells": [
  {
   "cell_type": "code",
   "execution_count": 1,
   "id": "b6f1e404",
   "metadata": {},
   "outputs": [],
   "source": [
    "import os\n",
    "from dotenv import load_dotenv\n",
    "\n",
    "from pydantic import BaseModel, Field\n",
    "\n",
    "# Langchain imports\n",
    "from langchain.chat_models import ChatOpenAI\n",
    "\n",
    "from langchain.prompts.chat import (\n",
    "    ChatPromptTemplate,\n",
    "    HumanMessagePromptTemplate,\n",
    ")\n",
    "\n",
    "from langchain_core.output_parsers import PydanticOutputParser"
   ]
  },
  {
   "cell_type": "code",
   "execution_count": 5,
   "id": "afd73022",
   "metadata": {},
   "outputs": [],
   "source": [
    "class Country(BaseModel):\n",
    "    capital: str = Field(description=\"capital of the country\")\n",
    "    population: int = Field(description=\"population of the country\")\n",
    "    name: str = Field (description=\"name of the country\")\n",
    "\n",
    "PROMPT_COUNTRY_INFO = \"\"\"Provide information about {country}. If the country is not found make it up.\n",
    " {format_instructions}\"\"\"\n",
    "\n",
    "load_dotenv()\n",
    "\n",
    "OPENAI_API_KEY = os.getenv(\"OPENAI_API_KEY\")\n",
    "OPENAI_MODEL = \"gpt-4\""
   ]
  },
  {
   "cell_type": "code",
   "execution_count": 6,
   "id": "b6e62a9a",
   "metadata": {},
   "outputs": [
    {
     "name": "stderr",
     "output_type": "stream",
     "text": [
      "/var/folders/d7/kbzjctfd2j1329wsp0mr4g000000gn/T/ipykernel_65141/871088308.py:5: LangChainDeprecationWarning: The class `ChatOpenAI` was deprecated in LangChain 0.0.10 and will be removed in 1.0. An updated version of the class exists in the :class:`~langchain-openai package and should be used instead. To use it run `pip install -U :class:`~langchain-openai` and import as `from :class:`~langchain_openai import ChatOpenAI``.\n",
      "  llm = ChatOpenAI(openai_api_key=OPENAI_API_KEY, model_name=OPENAI_MODEL)\n",
      "/var/folders/d7/kbzjctfd2j1329wsp0mr4g000000gn/T/ipykernel_65141/871088308.py:19: LangChainDeprecationWarning: The method `BaseChatModel.__call__` was deprecated in langchain-core 0.1.7 and will be removed in 1.0. Use :meth:`~invoke` instead.\n",
      "  output = llm(chat_prompt_with_values.to_messages())\n"
     ]
    },
    {
     "name": "stdout",
     "output_type": "stream",
     "text": [
      "Generating response...\n",
      "The capital of Russia is Moscow and the population is 146599183.\n"
     ]
    }
   ],
   "source": [
    "# Set up a parser + inject instructions into the prompt template.\n",
    "parser = PydanticOutputParser(pydantic_object=Country)\n",
    "\n",
    "# setup the chat model\n",
    "llm = ChatOpenAI(openai_api_key=OPENAI_API_KEY, model_name=OPENAI_MODEL)\n",
    "message = HumanMessagePromptTemplate.from_template(\n",
    "    template=PROMPT_COUNTRY_INFO,\n",
    ")\n",
    "chat_prompt = ChatPromptTemplate.from_messages([message])\n",
    "\n",
    "# get user input\n",
    "country_name = \"Russia\"\n",
    "\n",
    "# generate the response\n",
    "print(\"Generating response...\")\n",
    "chat_prompt_with_values = chat_prompt.format_prompt(\n",
    "country=country_name, format_instructions=parser.get_format_instructions()\n",
    ")\n",
    "output = llm(chat_prompt_with_values.to_messages())\n",
    "country = parser.parse(output.content)\n",
    "\n",
    "# print the response\n",
    "print(f\"The capital of {country.name} is {country.capital} and the population is {country.population}.\")\n"
   ]
  },
  {
   "cell_type": "code",
   "execution_count": null,
   "id": "786b0e18",
   "metadata": {},
   "outputs": [
    {
     "data": {
      "text/plain": [
       "[HumanMessage(content='Provide information about Russia. If the country is not found make it up.\\n The output should be formatted as a JSON instance that conforms to the JSON schema below.\\n\\nAs an example, for the schema {\"properties\": {\"foo\": {\"title\": \"Foo\", \"description\": \"a list of strings\", \"type\": \"array\", \"items\": {\"type\": \"string\"}}}, \"required\": [\"foo\"]}\\nthe object {\"foo\": [\"bar\", \"baz\"]} is a well-formatted instance of the schema. The object {\"properties\": {\"foo\": [\"bar\", \"baz\"]}} is not well-formatted.\\n\\nHere is the output schema:\\n```\\n{\"properties\": {\"capital\": {\"description\": \"capital of the country\", \"title\": \"Capital\", \"type\": \"string\"}, \"population\": {\"description\": \"population of the country\", \"title\": \"Population\", \"type\": \"integer\"}, \"name\": {\"description\": \"name of the country\", \"title\": \"Name\", \"type\": \"string\"}}, \"required\": [\"capital\", \"population\", \"name\"]}\\n```', additional_kwargs={}, response_metadata={})]"
      ]
     },
     "execution_count": 9,
     "metadata": {},
     "output_type": "execute_result"
    }
   ],
   "source": []
  },
  {
   "cell_type": "code",
   "execution_count": null,
   "id": "5ef61ac3",
   "metadata": {},
   "outputs": [],
   "source": []
  }
 ],
 "metadata": {
  "kernelspec": {
   "display_name": ".venv",
   "language": "python",
   "name": "python3"
  },
  "language_info": {
   "codemirror_mode": {
    "name": "ipython",
    "version": 3
   },
   "file_extension": ".py",
   "mimetype": "text/x-python",
   "name": "python",
   "nbconvert_exporter": "python",
   "pygments_lexer": "ipython3",
   "version": "3.12.11"
  }
 },
 "nbformat": 4,
 "nbformat_minor": 5
}

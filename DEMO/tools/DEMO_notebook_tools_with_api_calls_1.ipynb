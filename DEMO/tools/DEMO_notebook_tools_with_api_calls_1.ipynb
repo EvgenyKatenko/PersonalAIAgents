{
 "cells": [
  {
   "cell_type": "code",
   "execution_count": 1,
   "id": "ad4f5c02",
   "metadata": {},
   "outputs": [
    {
     "data": {
      "text/plain": [
       "'\\nJust a demo of using direct calls with OpenAI util to parse and use tools\\nIn this example there simple numeric operations\\n'"
      ]
     },
     "execution_count": 1,
     "metadata": {},
     "output_type": "execute_result"
    }
   ],
   "source": [
    "\"\"\"\n",
    "Just a demo of using direct calls with OpenAI util to parse and use tools\n",
    "In this example there simple numeric operations\n",
    "\"\"\""
   ]
  },
  {
   "cell_type": "code",
   "execution_count": 2,
   "id": "cb2369f4",
   "metadata": {},
   "outputs": [],
   "source": [
    "import os\n",
    "import openai\n",
    "from openai import OpenAI\n",
    "import json\n",
    "\n",
    "import os\n",
    "from dotenv import load_dotenv"
   ]
  },
  {
   "cell_type": "code",
   "execution_count": null,
   "id": "ff872b18",
   "metadata": {},
   "outputs": [],
   "source": [
    "\n",
    "\n",
    "api_key = os.getenv(\"OPENAI_API_KEY\")\n"
   ]
  },
  {
   "cell_type": "markdown",
   "id": "ea4e1216",
   "metadata": {},
   "source": [
    "# Define tools "
   ]
  },
  {
   "cell_type": "code",
   "execution_count": null,
   "id": "fa14e0ef",
   "metadata": {},
   "outputs": [],
   "source": [
    "\n",
    "\n",
    "tools = [\n",
    "    {\n",
    "        \"type\": \"function\",\n",
    "        \"function\": {\n",
    "            \"name\": \"add_numbers\",\n",
    "            \"description\": \"Add two numbers\",\n",
    "            \"parameters\": {\n",
    "                \"type\": \"object\",\n",
    "                \"properties\": {\n",
    "                    \"a\": {\"type\": \"number\", \"description\": \"First number\"},\n",
    "                    \"b\": {\"type\": \"number\", \"description\": \"Second number\"},\n",
    "                },\n",
    "                \"required\": [\"a\", \"b\"],\n",
    "            },\n",
    "        },\n",
    "    },\n",
    "    {\n",
    "        \"type\": \"function\",\n",
    "        \"function\": {\n",
    "            \"name\": \"multiply_numbers\",\n",
    "            \"description\": \"Multiply two numbers\",\n",
    "            \"parameters\": {\n",
    "                \"type\": \"object\",\n",
    "                \"properties\": {\n",
    "                    \"a\": {\"type\": \"number\", \"description\": \"First number\"},\n",
    "                    \"b\": {\"type\": \"number\", \"description\": \"Second number\"},\n",
    "                },\n",
    "                \"required\": [\"a\", \"b\"],\n",
    "            },\n",
    "        },\n",
    "    },\n",
    "    {\n",
    "        \"type\": \"function\",\n",
    "        \"function\": {\n",
    "            \"name\": \"subtract_numbers\",\n",
    "            \"description\": \"Subtract second number from the first\",\n",
    "            \"parameters\": {\n",
    "                \"type\": \"object\",\n",
    "                \"properties\": {\n",
    "                    \"a\": {\"type\": \"number\", \"description\": \"First number\"},\n",
    "                    \"b\": {\"type\": \"number\", \"description\": \"Second number\"},\n",
    "                },\n",
    "                \"required\": [\"a\", \"b\"],\n",
    "            },\n",
    "        },\n",
    "    }\n",
    "]\n",
    "\n",
    "# Define actual implementations of the tools\n",
    "def add_numbers(a, b):\n",
    "    return {\"result\": a + b}\n",
    "\n",
    "def multiply_numbers(a, b):\n",
    "    return {\"result\": a * b}\n",
    "\n",
    "def subtract_numbers(a, b):\n",
    "    return {\"result\": a - b}\n",
    "\n",
    "tool_functions = {\n",
    "    \"add_numbers\": add_numbers,\n",
    "    \"multiply_numbers\": multiply_numbers,\n",
    "    \"subtract_numbers\": subtract_numbers,\n",
    "}\n",
    "\n",
    "\n"
   ]
  },
  {
   "cell_type": "markdown",
   "id": "9b59be9c",
   "metadata": {},
   "source": [
    "# Define tool handlers "
   ]
  },
  {
   "cell_type": "code",
   "execution_count": 105,
   "id": "5734269f",
   "metadata": {},
   "outputs": [],
   "source": [
    "def call_function(func_name : str, args : dict):\n",
    "    func_obj = tool_functions[func_name]\n",
    "    return func_obj(**args)\n",
    "    \n",
    "def handle_tool_call(tool_call):\n",
    "\n",
    "\n",
    "    tool_name = tool_call.function.name\n",
    "    arguments = json.loads(tool_call.function.arguments)\n",
    "    print(f\"Tool called: {tool_name}\", flush=True)\n",
    "\n",
    "    result = call_function(tool_name, arguments)\n",
    "\n",
    "    res = {\"role\": \"tool\",\"content\": json.dumps(result),\"tool_call_id\": tool_call.id}\n",
    "\n",
    "    return res\n",
    "\n",
    "def handle_multi_tool_calls(tool_calls):\n",
    "    res = []\n",
    "    for tool_call in tool_calls:\n",
    "        tool_result = handle_tool_call(tool_call)\n",
    "        res.append(tool_result)\n",
    "    return res"
   ]
  },
  {
   "cell_type": "markdown",
   "id": "3b217e6c",
   "metadata": {},
   "source": [
    "# One off tool use"
   ]
  },
  {
   "cell_type": "code",
   "execution_count": 77,
   "id": "7c7abc9c",
   "metadata": {},
   "outputs": [],
   "source": [
    "# Define prompts \n",
    "\n",
    "system_prompt = (\n",
    " \"You are a helpful AI assistant. \"\n",
    "  \"If a user asks a question that requires calculation, \"\n",
    "  \"use the available functions to compute the answer. \"\n",
    "  \"Do not make up results. \"\n",
    ")\n",
    "\n",
    "user_prompt = \"What is product of 5 and 7?\"\n",
    "\n",
    "input_messages = [\n",
    "    {\"role\": \"system\", \"content\": system_prompt},\n",
    "    {\"role\": \"user\", \"content\": user_prompt}\n",
    "    ]\n"
   ]
  },
  {
   "cell_type": "code",
   "execution_count": 78,
   "id": "36607520",
   "metadata": {},
   "outputs": [
    {
     "name": "stdout",
     "output_type": "stream",
     "text": [
      "Tool called: multiply_numbers\n",
      "The product of 5 and 7 is 35.\n"
     ]
    }
   ],
   "source": [
    "# define model / client\n",
    "#-------------------------------------------------------------\n",
    "client = OpenAI(api_key=api_key)\n",
    "client_local = OpenAI(base_url=\"http://localhost:1234/v1\", api_key=\"no_key\")\n",
    "\n",
    "model_name = \"gpt-4o\"\n",
    "model_name_local = \"google/gemma-3-12b\"\n",
    "\n",
    "\n",
    "# run llm \n",
    "#-------------------------------------------------------------\n",
    "client_use = client\n",
    "model_name_use = model_name\n",
    "\n",
    "response1 = client_use.chat.completions.create(\n",
    "    model= model_name_use, \n",
    "     messages=input_messages, \n",
    "     tools=tools\n",
    ")\n",
    "\n",
    "finish_reason = response1.choices[0].finish_reason\n",
    "\n",
    "\n",
    "# call tool (ONLY ONE TOOL)\n",
    "#-------------------------------------------------------------\n",
    "if finish_reason == \"tool_calls\":\n",
    "\n",
    "    message = response1.choices[0].message\n",
    "    \n",
    "    tool_call = message.tool_calls[0] # take first! \n",
    "    tool_result = handle_tool_call(tool_call)\n",
    "    \n",
    "    # update unput messages \n",
    "    new_input_messages = input_messages.copy()\n",
    "    new_input_messages.append(message)\n",
    "    new_input_messages.extend([tool_result])\n",
    "\n",
    "    # run llm again \n",
    "    #-------------------------------------------------------------\n",
    "    response2 = client_use.chat.completions.create(\n",
    "        model=model_name_use, \n",
    "        messages=new_input_messages, \n",
    "        tools=tools\n",
    "    )\n",
    "\n",
    "    print(response2.choices[0].message.content)\n",
    "\n",
    "else:\n",
    "    print(response1.choices[0].message.content)\n",
    "\n",
    "\n"
   ]
  },
  {
   "cell_type": "code",
   "execution_count": null,
   "id": "ad3a6f8a",
   "metadata": {},
   "outputs": [],
   "source": []
  },
  {
   "cell_type": "markdown",
   "id": "10d2fd01",
   "metadata": {},
   "source": [
    "# Multiple tools use (cascade)"
   ]
  },
  {
   "cell_type": "code",
   "execution_count": 102,
   "id": "1a20b927",
   "metadata": {},
   "outputs": [],
   "source": [
    "\n",
    "# Define prompts \n",
    "\n",
    "system_prompt = (\n",
    " \"You are a helpful AI assistant. \"\n",
    "  \"If a user asks a question that requires calculation, \"\n",
    "  \"use the available functions to compute the answer. \"\n",
    "  \"Do not make up results. \"\n",
    "  \"You may call multiple functions if needed.\"\n",
    ")\n",
    "\n",
    "user_prompt = \"What is product of 5 and 7 minus 20 times 2?\"\n",
    "\n",
    "input_messages = [\n",
    "    {\"role\": \"system\", \"content\": system_prompt},\n",
    "    {\"role\": \"user\", \"content\": user_prompt}\n",
    "    ]"
   ]
  },
  {
   "cell_type": "code",
   "execution_count": 103,
   "id": "4a26dc77",
   "metadata": {},
   "outputs": [],
   "source": [
    "# Step 1: just call api \n",
    "\n",
    "# define model / client\n",
    "#-------------------------------------------------------------\n",
    "client = OpenAI(api_key=api_key)\n",
    "client_local = OpenAI(base_url=\"http://localhost:1234/v1\", api_key=\"no_key\")\n",
    "\n",
    "model_name = \"gpt-4o\"\n",
    "model_name_local = \"google/gemma-3-12b\"\n",
    "\n",
    "\n",
    "# run llm \n",
    "#-------------------------------------------------------------\n",
    "client_use = client\n",
    "model_name_use = model_name\n",
    "\n",
    "response1 = client_use.chat.completions.create(\n",
    "    model= model_name_use, \n",
    "     messages=input_messages, \n",
    "     tools=tools\n",
    ")\n",
    "\n",
    "finish_reason = response1.choices[0].finish_reason"
   ]
  },
  {
   "cell_type": "code",
   "execution_count": 104,
   "id": "1b7c082f",
   "metadata": {},
   "outputs": [
    {
     "name": "stdout",
     "output_type": "stream",
     "text": [
      "Tool called: multiply_numbers\n",
      "Tool called: multiply_numbers\n",
      "Tool called: subtract_numbers\n",
      "The product of 5 and 7 minus 20 times 2 is \\(-5\\).\n"
     ]
    }
   ],
   "source": [
    "# Step 2: while there are tools keep calling \n",
    "done_status = False\n",
    "max_iters = 5\n",
    "cur_iter = 1\n",
    "\n",
    "response_rolling = response1\n",
    "\n",
    "new_input_messages = input_messages.copy()\n",
    "\n",
    "while not done_status: \n",
    "\n",
    "    if cur_iter > max_iters:\n",
    "        break\n",
    "    \n",
    "    # invoke LLM only on the second iteration (first one is for processing tools from step 1)\n",
    "    if cur_iter > 1:\n",
    "        response_rolling = client_use.chat.completions.create(\n",
    "                            model= model_name_use, \n",
    "                            messages=new_input_messages, \n",
    "                            tools=tools\n",
    "                        )\n",
    "        # update finish reason \n",
    "        finish_reason = response_rolling.choices[0].finish_reason\n",
    "    \n",
    "    if finish_reason == \"tool_calls\":\n",
    "\n",
    "        message = response_rolling.choices[0].message\n",
    "        tool_calls = message.tool_calls\n",
    "\n",
    "        res_tools = handle_multi_tool_calls(tool_calls)\n",
    "\n",
    "        new_input_messages.append(message)\n",
    "        new_input_messages.extend(res_tools)\n",
    "        \n",
    "    else:\n",
    "        done_status = True\n",
    "\n",
    "\n",
    "    cur_iter += 1\n",
    "\n",
    "print(response_rolling.choices[0].message.content)"
   ]
  },
  {
   "cell_type": "code",
   "execution_count": null,
   "id": "bc181ae7",
   "metadata": {},
   "outputs": [],
   "source": []
  }
 ],
 "metadata": {
  "kernelspec": {
   "display_name": ".venv",
   "language": "python",
   "name": "python3"
  },
  "language_info": {
   "codemirror_mode": {
    "name": "ipython",
    "version": 3
   },
   "file_extension": ".py",
   "mimetype": "text/x-python",
   "name": "python",
   "nbconvert_exporter": "python",
   "pygments_lexer": "ipython3",
   "version": "3.12.7"
  }
 },
 "nbformat": 4,
 "nbformat_minor": 5
}

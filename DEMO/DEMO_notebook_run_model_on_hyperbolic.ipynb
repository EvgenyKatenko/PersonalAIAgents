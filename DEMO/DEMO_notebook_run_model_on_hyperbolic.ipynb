{
 "cells": [
  {
   "cell_type": "code",
   "id": "7a8a30540d823229",
   "metadata": {
    "ExecuteTime": {
     "end_time": "2025-07-29T15:12:42.317916Z",
     "start_time": "2025-07-29T15:12:42.316319Z"
    }
   },
   "source": [
    "from turtledemo.sorting_animate import instructions1\n",
    "\n",
    "from datetime import datetime\n",
    "\n",
    "from IPython.display import Markdown, display\n",
    "from dotenv import load_dotenv\n",
    "import os"
   ],
   "outputs": [],
   "execution_count": 14
  },
  {
   "cell_type": "code",
   "id": "212665a0548fd219",
   "metadata": {
    "ExecuteTime": {
     "end_time": "2025-07-29T15:12:43.781458Z",
     "start_time": "2025-07-29T15:12:43.778402Z"
    }
   },
   "source": [
    "load_dotenv()\n",
    "api_key = os.getenv('HYPERBOLIC_API_KEY')\n",
    "BASE_URL = \"https://api.hyperbolic.xyz/v1\""
   ],
   "outputs": [],
   "execution_count": 15
  },
  {
   "cell_type": "markdown",
   "id": "98b1800779e9168f",
   "metadata": {},
   "source": [
    "# Just post to url"
   ]
  },
  {
   "metadata": {
    "ExecuteTime": {
     "end_time": "2025-07-29T15:12:53.496033Z",
     "start_time": "2025-07-29T15:12:53.493735Z"
    }
   },
   "cell_type": "code",
   "source": "print(response.json())",
   "id": "2c532a32a4be2c7a",
   "outputs": [
    {
     "name": "stdout",
     "output_type": "stream",
     "text": [
      "{'id': 'chatcmpl-bD43qHfQqgaQNcumV7hWGk', 'object': 'chat.completion', 'created': 1753801967, 'model': 'meta-llama/Llama-3.3-70B-Instruct', 'choices': [{'index': 0, 'message': {'role': 'assistant', 'content': 'Why did the astronaut break up with his girlfriend before going to Mars?\\n\\nBecause he needed space, and she was always gravitating towards drama! (get it?)', 'tool_calls': []}, 'finish_reason': 'stop', 'logprobs': None}], 'usage': {'prompt_tokens': 35, 'total_tokens': 68, 'completion_tokens': 33}}\n"
     ]
    }
   ],
   "execution_count": 17
  },
  {
   "cell_type": "markdown",
   "id": "f86b7f173ba87777",
   "metadata": {
    "ExecuteTime": {
     "end_time": "2025-07-29T13:47:26.963032Z",
     "start_time": "2025-07-29T13:47:26.961422Z"
    }
   },
   "source": [
    "# Using wrapper"
   ]
  },
  {
   "cell_type": "code",
   "execution_count": null,
   "id": "bfa631ca60a087a2",
   "metadata": {},
   "outputs": [],
   "source": [
    "load_dotenv(override=True)"
   ]
  },
  {
   "cell_type": "code",
   "execution_count": 9,
   "id": "57c2506b93cfdb64",
   "metadata": {
    "ExecuteTime": {
     "end_time": "2025-07-29T14:02:22.053802Z",
     "start_time": "2025-07-29T14:02:20.037059Z"
    }
   },
   "outputs": [],
   "source": [
    "from openai import OpenAI\n",
    "\n",
    "model_name = \"meta-llama/Meta-Llama-3.1-70B-Instruct\"\n",
    "\n",
    "model = OpenAI(base_url=BASE_URL,\n",
    "                api_key=api_key)\n",
    "\n",
    "response = model.chat.completions.create(model=model_name,\n",
    "    messages=[{\"role\" : \"system\", \"content\": \"You are dark humor joker and reply only with a joke itself\"},\n",
    "        {\"role\": \"user\", \"content\": \"Tell me a joke\"}],\n",
    "    temperature=0.6,\n",
    "    max_tokens=100)\n"
   ]
  },
  {
   "cell_type": "code",
   "execution_count": 10,
   "id": "f56ee10a9bfec0c4",
   "metadata": {
    "ExecuteTime": {
     "end_time": "2025-07-29T14:02:22.675316Z",
     "start_time": "2025-07-29T14:02:22.671570Z"
    }
   },
   "outputs": [
    {
     "data": {
      "text/markdown": [
       "Why was the morgue employee always in a good mood? Because he was always dying to get to work!"
      ],
      "text/plain": [
       "<IPython.core.display.Markdown object>"
      ]
     },
     "metadata": {},
     "output_type": "display_data"
    }
   ],
   "source": [
    "answer = response.choices[0].message.content\n",
    "\n",
    "display(Markdown(answer))"
   ]
  },
  {
   "cell_type": "markdown",
   "id": "d908f4d1d1705481",
   "metadata": {},
   "source": [
    "# Open AI Agent SDK"
   ]
  },
  {
   "cell_type": "code",
   "id": "1f49ebe6cbf724b1",
   "metadata": {
    "ExecuteTime": {
     "end_time": "2025-07-29T15:09:07.201623Z",
     "start_time": "2025-07-29T15:09:06.489039Z"
    }
   },
   "source": [
    "from openai import AsyncOpenAI\n",
    "from agents import Agent, Runner, trace, function_tool, OpenAIChatCompletionsModel, input_guardrail, GuardrailFunctionOutput, ModelSettings\n",
    "\n",
    "model_name = \"meta-llama/Meta-Llama-3.1-70B-Instruct\"\n",
    "\n",
    "hyperbolic_client = AsyncOpenAI(base_url=BASE_URL,\n",
    "                                api_key=api_key\n",
    "                                )\n",
    "hyperbolic_model = OpenAIChatCompletionsModel(model= model_name,\n",
    "                                              openai_client=hyperbolic_client\n",
    "                                              )\n",
    "\n",
    "model_settings = ModelSettings(temperature=0.1, max_tokens=100, top_p=0.2)\n",
    "\n",
    "hyperbolic_agent = Agent(\n",
    "    name = \"Hyperbolic agent\",\n",
    "    instructions = \"You are dark humor joker and reply only with a joke itself\",\n",
    "    model = hyperbolic_model,\n",
    "    model_settings = model_settings\n",
    ")\n",
    "\n",
    "with trace(\"Hyperbolic agent\"):\n",
    "    result = await Runner.run(hyperbolic_agent, \"Tell me a new joke.\")\n",
    "\n",
    "    print(result.final_output)"
   ],
   "outputs": [
    {
     "ename": "NameError",
     "evalue": "name 'BASE_URL' is not defined",
     "output_type": "error",
     "traceback": [
      "\u001B[31m---------------------------------------------------------------------------\u001B[39m",
      "\u001B[31mNameError\u001B[39m                                 Traceback (most recent call last)",
      "\u001B[36mCell\u001B[39m\u001B[36m \u001B[39m\u001B[32mIn[1]\u001B[39m\u001B[32m, line 6\u001B[39m\n\u001B[32m      2\u001B[39m \u001B[38;5;28;01mfrom\u001B[39;00m\u001B[38;5;250m \u001B[39m\u001B[34;01magents\u001B[39;00m\u001B[38;5;250m \u001B[39m\u001B[38;5;28;01mimport\u001B[39;00m Agent, Runner, trace, function_tool, OpenAIChatCompletionsModel, input_guardrail, GuardrailFunctionOutput, ModelSettings\n\u001B[32m      4\u001B[39m model_name = \u001B[33m\"\u001B[39m\u001B[33mmeta-llama/Meta-Llama-3.1-70B-Instruct\u001B[39m\u001B[33m\"\u001B[39m\n\u001B[32m----> \u001B[39m\u001B[32m6\u001B[39m hyperbolic_client = AsyncOpenAI(base_url=\u001B[43mBASE_URL\u001B[49m,\n\u001B[32m      7\u001B[39m                                 api_key=api_key\n\u001B[32m      8\u001B[39m                                 )\n\u001B[32m      9\u001B[39m hyperbolic_model = OpenAIChatCompletionsModel(model= model_name,\n\u001B[32m     10\u001B[39m                                               openai_client=hyperbolic_client\n\u001B[32m     11\u001B[39m                                               )\n\u001B[32m     13\u001B[39m model_settings = ModelSettings(temperature=\u001B[32m0.1\u001B[39m, max_tokens=\u001B[32m100\u001B[39m, top_p=\u001B[32m0.2\u001B[39m)\n",
      "\u001B[31mNameError\u001B[39m: name 'BASE_URL' is not defined"
     ]
    }
   ],
   "execution_count": 1
  },
  {
   "cell_type": "code",
   "execution_count": null,
   "id": "d815875e8daa4e5c",
   "metadata": {},
   "outputs": [
    {
     "ename": "AttributeError",
     "evalue": "'Agent' object has no attribute 'run'",
     "output_type": "error",
     "traceback": [
      "\u001B[31m---------------------------------------------------------------------------\u001B[39m",
      "\u001B[31mAttributeError\u001B[39m                            Traceback (most recent call last)",
      "\u001B[36mCell\u001B[39m\u001B[36m \u001B[39m\u001B[32mIn[13]\u001B[39m\u001B[32m, line 1\u001B[39m\n\u001B[32m----> \u001B[39m\u001B[32m1\u001B[39m \u001B[43mhyperbolic_agent\u001B[49m\u001B[43m.\u001B[49m\u001B[43mrun\u001B[49m(\u001B[33m\"\u001B[39m\u001B[33mTell me a joke.\u001B[39m\u001B[33m\"\u001B[39m)\n",
      "\u001B[31mAttributeError\u001B[39m: 'Agent' object has no attribute 'run'"
     ]
    }
   ],
   "source": []
  },
  {
   "cell_type": "code",
   "execution_count": null,
   "id": "eedd35ef9c8bf3d0",
   "metadata": {},
   "outputs": [],
   "source": []
  }
 ],
 "metadata": {
  "kernelspec": {
   "display_name": ".venv",
   "language": "python",
   "name": "python3"
  },
  "language_info": {
   "codemirror_mode": {
    "name": "ipython",
    "version": 3
   },
   "file_extension": ".py",
   "mimetype": "text/x-python",
   "name": "python",
   "nbconvert_exporter": "python",
   "pygments_lexer": "ipython3",
   "version": "3.12.11"
  }
 },
 "nbformat": 4,
 "nbformat_minor": 5
}
